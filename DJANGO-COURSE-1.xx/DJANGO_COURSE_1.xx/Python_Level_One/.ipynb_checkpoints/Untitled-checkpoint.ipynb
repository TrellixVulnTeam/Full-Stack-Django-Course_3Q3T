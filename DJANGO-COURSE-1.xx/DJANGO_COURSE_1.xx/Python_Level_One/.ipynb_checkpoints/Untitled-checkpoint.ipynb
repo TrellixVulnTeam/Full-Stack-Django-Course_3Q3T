{
 "cells": [
  {
   "cell_type": "code",
   "execution_count": 17,
   "metadata": {},
   "outputs": [
    {
     "name": "stdout",
     "output_type": "stream",
     "text": [
      "What is your guess?500\n",
      "[\"Close: You've guessed a correct number but in the wrong position\", \"Close: You've guessed a correct number but in the wrong position\", \"Match: You've guessed a correct number in the correct position\"]\n"
     ]
    },
    {
     "ename": "TypeError",
     "evalue": "'str' object is not callable",
     "output_type": "error",
     "traceback": [
      "\u001b[1;31m---------------------------------------------------------------------------\u001b[0m",
      "\u001b[1;31mTypeError\u001b[0m                                 Traceback (most recent call last)",
      "\u001b[1;32m<ipython-input-17-20e70375103b>\u001b[0m in \u001b[0;36m<module>\u001b[1;34m\u001b[0m\n\u001b[0;32m     36\u001b[0m \u001b[1;33m\u001b[0m\u001b[0m\n\u001b[0;32m     37\u001b[0m \u001b[1;32mwhile\u001b[0m \u001b[0mclues\u001b[0m \u001b[1;33m!=\u001b[0m \u001b[1;34m\"You got it right!\"\u001b[0m\u001b[1;33m:\u001b[0m\u001b[1;33m\u001b[0m\u001b[1;33m\u001b[0m\u001b[0m\n\u001b[1;32m---> 38\u001b[1;33m     \u001b[0mguess\u001b[0m \u001b[1;33m=\u001b[0m \u001b[0mguess\u001b[0m\u001b[1;33m(\u001b[0m\u001b[1;33m)\u001b[0m\u001b[1;33m\u001b[0m\u001b[1;33m\u001b[0m\u001b[0m\n\u001b[0m\u001b[0;32m     39\u001b[0m     \u001b[0mclues\u001b[0m \u001b[1;33m=\u001b[0m \u001b[0mget_clues\u001b[0m\u001b[1;33m(\u001b[0m\u001b[0mcode\u001b[0m\u001b[1;33m,\u001b[0m \u001b[0mguess\u001b[0m\u001b[1;33m)\u001b[0m\u001b[1;33m\u001b[0m\u001b[1;33m\u001b[0m\u001b[0m\n\u001b[0;32m     40\u001b[0m     \u001b[0mprint\u001b[0m\u001b[1;33m(\u001b[0m\u001b[0mclues\u001b[0m\u001b[1;33m)\u001b[0m\u001b[1;33m\u001b[0m\u001b[1;33m\u001b[0m\u001b[0m\n",
      "\u001b[1;31mTypeError\u001b[0m: 'str' object is not callable"
     ]
    }
   ],
   "source": [
    "def create_code():\n",
    "    import random\n",
    "    digits = list(range(10))\n",
    "    random.shuffle(digits)\n",
    "    return digits[:3]\n",
    "\n",
    "\n",
    "def guess():\n",
    "    return input(\"What is your guess?\")\n",
    "\n",
    "# Think about how you will compare the input to the random number, what format\n",
    "# should they be in? Maybe some sort of sequence? Watch the Lecture video for more hints!\n",
    "\n",
    "def get_clues(code, guess):\n",
    "    ans = \"\".join([str(d) for d in code])\n",
    "    if guess == ans:\n",
    "        return \"You got it right!\"\n",
    "    clues = []\n",
    "    guess_digits = [int(n) for n in str(guess)]\n",
    "    close = 0\n",
    "    match = 0\n",
    "    for i,v in enumerate(guess_digits):\n",
    "        if code[i] == v:\n",
    "            clues.append(\"Match: You've guessed a correct number in the correct position\")\n",
    "            match += 1\n",
    "        elif v in code and code[i] != v:\n",
    "            clues.append(\"Close: You've guessed a correct number but in the wrong position\")\n",
    "            close +=1\n",
    "    if close + match == 0:\n",
    "        clues.append(\"Nope: You haven't guess any of the numbers correctly\")\n",
    "    return clues\n",
    "\n",
    "code = create_code()\n",
    "clues = None\n",
    "\n",
    "while clues != \"You got it right!\":\n",
    "    guess = guess()\n",
    "    clues = get_clues(code, guess)\n",
    "    print(clues)"
   ]
  },
  {
   "cell_type": "code",
   "execution_count": 19,
   "metadata": {},
   "outputs": [
    {
     "name": "stdout",
     "output_type": "stream",
     "text": [
      "What is your guess?500\n"
     ]
    }
   ],
   "source": [
    "guess = input(\"What is your guess?\")"
   ]
  },
  {
   "cell_type": "code",
   "execution_count": 20,
   "metadata": {},
   "outputs": [
    {
     "name": "stdout",
     "output_type": "stream",
     "text": [
      "500\n"
     ]
    }
   ],
   "source": [
    "print(guess)"
   ]
  },
  {
   "cell_type": "code",
   "execution_count": null,
   "metadata": {},
   "outputs": [],
   "source": []
  }
 ],
 "metadata": {
  "kernelspec": {
   "display_name": "Python 3",
   "language": "python",
   "name": "python3"
  },
  "language_info": {
   "codemirror_mode": {
    "name": "ipython",
    "version": 3
   },
   "file_extension": ".py",
   "mimetype": "text/x-python",
   "name": "python",
   "nbconvert_exporter": "python",
   "pygments_lexer": "ipython3",
   "version": "3.7.3"
  }
 },
 "nbformat": 4,
 "nbformat_minor": 2
}
