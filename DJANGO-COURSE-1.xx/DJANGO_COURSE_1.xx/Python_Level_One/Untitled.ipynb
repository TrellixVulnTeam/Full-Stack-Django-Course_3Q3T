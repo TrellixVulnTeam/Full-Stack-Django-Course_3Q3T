{
 "cells": [
  {
   "cell_type": "code",
   "execution_count": 6,
   "metadata": {},
   "outputs": [
    {
     "name": "stdout",
     "output_type": "stream",
     "text": [
      "[4, 2, 1]\n",
      "What is your guess?373\n",
      "Nope: You haven't guess any of the numbers correctly\n",
      "What is your guess?403\n",
      "Match: You've guessed a correct number in the correct position\n",
      "What is your guess?241\n",
      "Close: You've guessed a correct number but in the wrong position\n",
      "Close: You've guessed a correct number but in the wrong position\n",
      "Match: You've guessed a correct number in the correct position\n",
      "What is your guess?421\n",
      "Y\n",
      "o\n",
      "u\n",
      " \n",
      "g\n",
      "o\n",
      "t\n",
      " \n",
      "i\n",
      "t\n",
      " \n",
      "r\n",
      "i\n",
      "g\n",
      "h\n",
      "t\n",
      "!\n"
     ]
    }
   ],
   "source": [
    "def create_code():\n",
    "    import random\n",
    "    digits = list(range(10))\n",
    "    random.shuffle(digits)\n",
    "    return digits[:3]\n",
    "\n",
    "\n",
    "def guess():\n",
    "    return list(input(\"What is your guess?\"))\n",
    "\n",
    "# Think about how you will compare the input to the random number, what format\n",
    "# should they be in? Maybe some sort of sequence? Watch the Lecture video for more hints!\n",
    "\n",
    "def get_clues(code, guess):\n",
    "    ans = [str(d) for d in code]\n",
    "    if guess == ans:\n",
    "        return \"You got it right!\"\n",
    "    clues = []\n",
    "    guess_digits = [int(n) for n in guess]\n",
    "    close = 0\n",
    "    match = 0\n",
    "    for i,v in enumerate(guess_digits):\n",
    "        if code[i] == v:\n",
    "            clues.append(\"Match: You've guessed a correct number in the correct position\")\n",
    "            match += 1\n",
    "        elif v in code and code[i] != v:\n",
    "            clues.append(\"Close: You've guessed a correct number but in the wrong position\")\n",
    "            close +=1\n",
    "    if close + match == 0:\n",
    "        clues.append(\"Nope: You haven't guess any of the numbers correctly\")\n",
    "    return clues\n",
    "\n",
    "code = create_code()\n",
    "print(code)\n",
    "clues = None\n",
    "\n",
    "while clues != \"You got it right!\":\n",
    "    g = guess()\n",
    "    clues = get_clues(code, g)\n",
    "    for clue in clues:\n",
    "        print(clue)"
   ]
  },
  {
   "cell_type": "code",
   "execution_count": 5,
   "metadata": {},
   "outputs": [
    {
     "data": {
      "text/plain": [
       "[7, 5, 9]"
      ]
     },
     "execution_count": 5,
     "metadata": {},
     "output_type": "execute_result"
    }
   ],
   "source": [
    "code"
   ]
  },
  {
   "cell_type": "code",
   "execution_count": null,
   "metadata": {},
   "outputs": [],
   "source": [
    "x"
   ]
  },
  {
   "cell_type": "code",
   "execution_count": null,
   "metadata": {},
   "outputs": [],
   "source": []
  }
 ],
 "metadata": {
  "kernelspec": {
   "display_name": "Python 3",
   "language": "python",
   "name": "python3"
  },
  "language_info": {
   "codemirror_mode": {
    "name": "ipython",
    "version": 3
   },
   "file_extension": ".py",
   "mimetype": "text/x-python",
   "name": "python",
   "nbconvert_exporter": "python",
   "pygments_lexer": "ipython3",
   "version": "3.7.3"
  }
 },
 "nbformat": 4,
 "nbformat_minor": 2
}
